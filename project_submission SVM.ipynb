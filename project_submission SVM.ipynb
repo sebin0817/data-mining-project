{
 "cells": [
  {
   "cell_type": "markdown",
   "metadata": {},
   "source": [
    "## Data Mining Project - Olist Sentiment Analysis"
   ]
  },
  {
   "cell_type": "markdown",
   "metadata": {},
   "source": [
    "### Loading Libraries and Datasets"
   ]
  },
  {
   "cell_type": "code",
   "execution_count": 1,
   "metadata": {},
   "outputs": [],
   "source": [
    "# %pip install tensorflow\n",
    "# %pip install -U scikit-learn\n",
    "\n",
    "import numpy as np\n",
    "import pandas as pd\n",
    "import matplotlib.pyplot as plt\n",
    "import seaborn as sns\n",
    "import sklearn"
   ]
  },
  {
   "cell_type": "code",
   "execution_count": 2,
   "metadata": {},
   "outputs": [],
   "source": [
    "from sklearn.base import BaseEstimator, TransformerMixin\n",
    "from sklearn.compose import ColumnTransformer, make_column_transformer\n",
    "from sklearn.preprocessing import StandardScaler, MinMaxScaler, OneHotEncoder\n",
    "from sklearn.impute import SimpleImputer\n",
    "from sklearn.model_selection import train_test_split, cross_val_score\n",
    "from sklearn.linear_model import LinearRegression\n",
    "from sklearn.metrics import mean_squared_error, r2_score\n",
    "from sklearn.svm import SVR"
   ]
  },
  {
   "cell_type": "code",
   "execution_count": 3,
   "metadata": {},
   "outputs": [],
   "source": [
    "data_cust = pd.read_csv(\"datasets/olist_customers_dataset.csv\")\n",
    "data_order_item = pd.read_csv(\"datasets/olist_order_items_dataset.csv\")\n",
    "data_order_paym = pd.read_csv(\"datasets/olist_order_payments_dataset.csv\")\n",
    "data_order_review = pd.read_csv(\"datasets/olist_order_reviews_dataset.csv\")\n",
    "data_order_main = pd.read_csv(\"datasets/olist_orders_dataset.csv\")\n",
    "data_product = pd.read_csv(\"datasets/olist_products_dataset.csv\")\n",
    "data_sellers = pd.read_csv(\"datasets/olist_sellers_dataset.csv\")\n",
    "data_product_cate_name = pd.read_csv(\"datasets/product_category_name_translation.csv\")"
   ]
  },
  {
   "cell_type": "markdown",
   "metadata": {},
   "source": [
    "File Merger"
   ]
  },
  {
   "cell_type": "code",
   "execution_count": 4,
   "metadata": {},
   "outputs": [],
   "source": [
    "compiled_df = data_cust.merge(data_order_main, how='inner', on='customer_id')\n",
    "compiled_df = compiled_df.merge(data_order_review, how='inner', on='order_id')\n",
    "compiled_df = compiled_df.merge(data_order_paym, how='inner', on='order_id')\n",
    "compiled_df = compiled_df.merge(data_order_item, how='inner', on='order_id')\n",
    "compiled_df = compiled_df.merge(data_product, how='inner', on='product_id')\n",
    "compiled_df = compiled_df.merge(data_sellers, how='inner', on='seller_id')\n",
    "compiled_df = compiled_df.merge(data_product_cate_name, how='inner', on='product_category_name')"
   ]
  },
  {
   "cell_type": "code",
   "execution_count": 5,
   "metadata": {},
   "outputs": [],
   "source": [
    "compiled_df = compiled_df.dropna(subset=['order_delivered_carrier_date', 'order_delivered_customer_date',\\\n",
    "     'product_weight_g', 'product_length_cm', 'product_width_cm', 'product_height_cm']).reset_index()"
   ]
  },
  {
   "cell_type": "markdown",
   "metadata": {},
   "source": [
    "Feature Selection"
   ]
  },
  {
   "cell_type": "code",
   "execution_count": 6,
   "metadata": {},
   "outputs": [],
   "source": [
    "cols_to_drop = ['index', 'customer_id', 'customer_unique_id', 'customer_city', 'customer_state', 'order_id', 'review_id', 'review_comment_title', 'review_comment_message',\\\n",
    "     'review_creation_date', 'review_answer_timestamp', 'payment_sequential', 'payment_type', 'payment_installments', 'order_item_id', 'product_id',\\\n",
    "        'seller_id', 'seller_state', 'seller_city', 'product_category_name']\n",
    "compiled_df.drop(cols_to_drop, axis=1, inplace=True)"
   ]
  },
  {
   "cell_type": "code",
   "execution_count": 7,
   "metadata": {},
   "outputs": [
    {
     "name": "stdout",
     "output_type": "stream",
     "text": [
      "<class 'pandas.core.frame.DataFrame'>\n",
      "RangeIndex: 113207 entries, 0 to 113206\n",
      "Data columns (total 21 columns):\n",
      " #   Column                         Non-Null Count   Dtype  \n",
      "---  ------                         --------------   -----  \n",
      " 0   customer_zip_code_prefix       113207 non-null  int64  \n",
      " 1   order_status                   113207 non-null  object \n",
      " 2   order_purchase_timestamp       113207 non-null  object \n",
      " 3   order_approved_at              113193 non-null  object \n",
      " 4   order_delivered_carrier_date   113207 non-null  object \n",
      " 5   order_delivered_customer_date  113207 non-null  object \n",
      " 6   order_estimated_delivery_date  113207 non-null  object \n",
      " 7   review_score                   113207 non-null  int64  \n",
      " 8   payment_value                  113207 non-null  float64\n",
      " 9   shipping_limit_date            113207 non-null  object \n",
      " 10  price                          113207 non-null  float64\n",
      " 11  freight_value                  113207 non-null  float64\n",
      " 12  product_name_lenght            113207 non-null  float64\n",
      " 13  product_description_lenght     113207 non-null  float64\n",
      " 14  product_photos_qty             113207 non-null  float64\n",
      " 15  product_weight_g               113207 non-null  float64\n",
      " 16  product_length_cm              113207 non-null  float64\n",
      " 17  product_height_cm              113207 non-null  float64\n",
      " 18  product_width_cm               113207 non-null  float64\n",
      " 19  seller_zip_code_prefix         113207 non-null  int64  \n",
      " 20  product_category_name_english  113207 non-null  object \n",
      "dtypes: float64(10), int64(3), object(8)\n",
      "memory usage: 18.1+ MB\n"
     ]
    }
   ],
   "source": [
    "compiled_df.info()"
   ]
  },
  {
   "cell_type": "code",
   "execution_count": 8,
   "metadata": {},
   "outputs": [],
   "source": [
    "compiled_df['volume'] = compiled_df.apply(lambda x: x['product_length_cm'] * x['product_height_cm'] * x['product_width_cm'], axis = 1)"
   ]
  },
  {
   "cell_type": "code",
   "execution_count": 9,
   "metadata": {},
   "outputs": [],
   "source": [
    "compiled_df['order_purchase_timestamp'] = pd.to_datetime(compiled_df['order_purchase_timestamp'])\n",
    "compiled_df['order_approved_at'] = pd.to_datetime(compiled_df['order_approved_at'])\n",
    "compiled_df['order_delivered_carrier_date'] = pd.to_datetime(compiled_df['order_delivered_carrier_date'])\n",
    "compiled_df['order_delivered_customer_date'] = pd.to_datetime(compiled_df['order_delivered_customer_date'])\n",
    "compiled_df['order_estimated_delivery_date'] = pd.to_datetime(compiled_df['order_estimated_delivery_date'])\n",
    "compiled_df['days_to_deliver'] = compiled_df.apply(lambda x: (x['order_delivered_customer_date'] - x['order_purchase_timestamp']).days, axis = 1)\n"
   ]
  },
  {
   "cell_type": "code",
   "execution_count": 10,
   "metadata": {},
   "outputs": [],
   "source": [
    "compiled_df.drop(['product_height_cm', 'product_length_cm', 'product_width_cm', 'order_purchase_timestamp', 'order_approved_at', 'order_delivered_carrier_date',\\\n",
    "    'order_delivered_customer_date', 'order_estimated_delivery_date', 'shipping_limit_date', 'order_status', 'product_category_name_english',\\\n",
    "        'customer_zip_code_prefix', 'seller_zip_code_prefix'], axis=1, inplace=True)"
   ]
  },
  {
   "cell_type": "code",
   "execution_count": 11,
   "metadata": {},
   "outputs": [],
   "source": [
    "compiled_df = compiled_df.sample(10000)\n",
    "sc_x = StandardScaler()\n",
    "output_var = compiled_df['review_score']\n",
    "input_var = compiled_df.drop('review_score', axis=1)\n",
    "input_var = sc_x.fit_transform(input_var)\n",
    "X_train, X_test, y_train, y_test = train_test_split(input_var, output_var, test_size=0.3, random_state=42, stratify=output_var)"
   ]
  },
  {
   "cell_type": "code",
   "execution_count": 12,
   "metadata": {},
   "outputs": [
    {
     "name": "stdout",
     "output_type": "stream",
     "text": [
      "[LibSVM]Model score on Training Data =  -0.06384995330307275\n",
      "Model score on Testing Data =  -0.08198300294548422\n"
     ]
    }
   ],
   "source": [
    "svr = SVR(kernel='linear', verbose = True)\n",
    "svr.fit(X_train,y_train)\n",
    "sv_preds = svr.predict(X_test)\n",
    "print(\"Model score on Training Data = \", svr.score(X_train,y_train))\n",
    "print(\"Model score on Testing Data = \", svr.score(X_test,y_test))"
   ]
  },
  {
   "cell_type": "code",
   "execution_count": 13,
   "metadata": {},
   "outputs": [
    {
     "name": "stdout",
     "output_type": "stream",
     "text": [
      "\n",
      "RMSE:  1.404\n"
     ]
    }
   ],
   "source": [
    "# Predicting the target values of the test set\n",
    "# RMSE (Root Mean Square Error)\n",
    "rmse = float(format(np.sqrt(mean_squared_error(y_test, sv_preds)), '.3f'))\n",
    "print(\"\\nRMSE: \", rmse)"
   ]
  },
  {
   "cell_type": "code",
   "execution_count": 14,
   "metadata": {},
   "outputs": [
    {
     "data": {
      "text/plain": [
       "array([4.95544194, 4.95990911, 4.72109623, ..., 4.53332364, 4.34777629,\n",
       "       4.65888425])"
      ]
     },
     "execution_count": 14,
     "metadata": {},
     "output_type": "execute_result"
    }
   ],
   "source": [
    "sv_preds"
   ]
  }
 ],
 "metadata": {
  "kernelspec": {
   "display_name": "Python 3.10.8 64-bit (microsoft store)",
   "language": "python",
   "name": "python3"
  },
  "language_info": {
   "codemirror_mode": {
    "name": "ipython",
    "version": 3
   },
   "file_extension": ".py",
   "mimetype": "text/x-python",
   "name": "python",
   "nbconvert_exporter": "python",
   "pygments_lexer": "ipython3",
   "version": "3.10.8"
  },
  "orig_nbformat": 4,
  "vscode": {
   "interpreter": {
    "hash": "8c710004f85f120fcbb17e5d410e094674df026d529af3f36d979791ae108c09"
   }
  }
 },
 "nbformat": 4,
 "nbformat_minor": 2
}
