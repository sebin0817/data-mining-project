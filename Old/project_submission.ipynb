{
 "cells": [
  {
   "cell_type": "markdown",
   "metadata": {},
   "source": [
    "## Data Mining Project - Olist Sentiment Analysis"
   ]
  },
  {
   "cell_type": "markdown",
   "metadata": {},
   "source": [
    "### Loading Libraries and Datasets"
   ]
  },
  {
   "cell_type": "code",
   "execution_count": 33,
   "metadata": {},
   "outputs": [],
   "source": [
    "# %pip install tensorflow\n",
    "# %pip install -U scikit-learn\n",
    "\n",
    "import numpy as np\n",
    "import pandas as pd\n",
    "import matplotlib.pyplot as plt\n",
    "import seaborn as sns\n",
    "import tensorflow as tf\n",
    "import sklearn"
   ]
  },
  {
   "cell_type": "code",
   "execution_count": null,
   "metadata": {},
   "outputs": [],
   "source": [
    "from sklearn.base import BaseEstimator, TransformerMixin\n",
    "from sklearn.compose import ColumnTransformer, make_column_transformer\n",
    "from sklearn.preprocessing import StandardScaler, MinMaxScaler, OneHotEncoder\n",
    "from sklearn.impute import SimpleImputer\n",
    "from sklearn.model_selection import train_test_split, cross_val_score\n",
    "from sklearn.linear_model import LinearRegression\n",
    "from sklearn.metrics import mean_squared_error, r2_score"
   ]
  },
  {
   "cell_type": "code",
   "execution_count": 34,
   "metadata": {},
   "outputs": [],
   "source": [
    "data_cust = pd.read_csv(\"datasets/olist_customers_dataset.csv\")\n",
    "data_order_item = pd.read_csv(\"datasets/olist_order_items_dataset.csv\")\n",
    "data_order_paym = pd.read_csv(\"datasets/olist_order_payments_dataset.csv\")\n",
    "data_order_review = pd.read_csv(\"datasets/olist_order_reviews_dataset.csv\")\n",
    "data_order_main = pd.read_csv(\"datasets/olist_orders_dataset.csv\")\n",
    "data_product = pd.read_csv(\"datasets/olist_products_dataset.csv\")\n",
    "data_sellers = pd.read_csv(\"datasets/olist_sellers_dataset.csv\")\n",
    "data_product_cate_name = pd.read_csv(\"datasets/product_category_name_translation.csv\")"
   ]
  },
  {
   "cell_type": "markdown",
   "metadata": {},
   "source": [
    "File Merger"
   ]
  },
  {
   "cell_type": "code",
   "execution_count": 52,
   "metadata": {},
   "outputs": [],
   "source": [
    "compiled_df = data_cust.merge(data_order_main, how='inner', on='customer_id')\n",
    "compiled_df = compiled_df.merge(data_order_review, how='inner', on='order_id')\n",
    "compiled_df = compiled_df.merge(data_order_paym, how='inner', on='order_id')\n",
    "compiled_df = compiled_df.merge(data_order_item, how='inner', on='order_id')\n",
    "compiled_df = compiled_df.merge(data_product, how='inner', on='product_id')\n",
    "compiled_df = compiled_df.merge(data_sellers, how='inner', on='seller_id')\n",
    "compiled_df = compiled_df.merge(data_product_cate_name, how='inner', on='product_category_name')"
   ]
  },
  {
   "cell_type": "code",
   "execution_count": 58,
   "metadata": {},
   "outputs": [],
   "source": [
    "compiled_df = compiled_df.dropna(subset=['order_delivered_carrier_date', 'order_delivered_customer_date',\\\n",
    "     'product_weight_g', 'product_length_cm', 'product_width_cm', 'product_height_cm']).reset_index()"
   ]
  },
  {
   "cell_type": "markdown",
   "metadata": {},
   "source": [
    "Feature Selection"
   ]
  },
  {
   "cell_type": "code",
   "execution_count": 54,
   "metadata": {},
   "outputs": [],
   "source": [
    "cols_to_drop = ['customer_id', 'customer_unique_id', 'customer_city', 'customer_state', 'order_id', 'review_id', 'review_score', 'review_comment_title', 'review_comment_message',\\\n",
    "     'review_creation_date', 'review_answer_timestamp', 'payment_sequential', 'payment_type', 'payment_installments', 'order_item_id', 'product_id',\\\n",
    "        'seller_id', 'seller_state', 'seller_city', 'product_category_name']\n",
    "compiled_df.drop(cols_to_drop, axis=1, inplace=True)"
   ]
  },
  {
   "cell_type": "code",
   "execution_count": 56,
   "metadata": {},
   "outputs": [
    {
     "name": "stdout",
     "output_type": "stream",
     "text": [
      "<class 'pandas.core.frame.DataFrame'>\n",
      "Int64Index: 115609 entries, 0 to 115608\n",
      "Data columns (total 20 columns):\n",
      " #   Column                         Non-Null Count   Dtype  \n",
      "---  ------                         --------------   -----  \n",
      " 0   customer_zip_code_prefix       115609 non-null  int64  \n",
      " 1   order_status                   115609 non-null  object \n",
      " 2   order_purchase_timestamp       115609 non-null  object \n",
      " 3   order_approved_at              115595 non-null  object \n",
      " 4   order_delivered_carrier_date   114414 non-null  object \n",
      " 5   order_delivered_customer_date  113209 non-null  object \n",
      " 6   order_estimated_delivery_date  115609 non-null  object \n",
      " 7   payment_value                  115609 non-null  float64\n",
      " 8   shipping_limit_date            115609 non-null  object \n",
      " 9   price                          115609 non-null  float64\n",
      " 10  freight_value                  115609 non-null  float64\n",
      " 11  product_name_lenght            115609 non-null  float64\n",
      " 12  product_description_lenght     115609 non-null  float64\n",
      " 13  product_photos_qty             115609 non-null  float64\n",
      " 14  product_weight_g               115608 non-null  float64\n",
      " 15  product_length_cm              115608 non-null  float64\n",
      " 16  product_height_cm              115608 non-null  float64\n",
      " 17  product_width_cm               115608 non-null  float64\n",
      " 18  seller_zip_code_prefix         115609 non-null  int64  \n",
      " 19  product_category_name_english  115609 non-null  object \n",
      "dtypes: float64(10), int64(2), object(8)\n",
      "memory usage: 18.5+ MB\n"
     ]
    }
   ],
   "source": [
    "compiled_df.info()"
   ]
  }
 ],
 "metadata": {
  "kernelspec": {
   "display_name": "Python 3.10.8 64-bit (microsoft store)",
   "language": "python",
   "name": "python3"
  },
  "language_info": {
   "codemirror_mode": {
    "name": "ipython",
    "version": 3
   },
   "file_extension": ".py",
   "mimetype": "text/x-python",
   "name": "python",
   "nbconvert_exporter": "python",
   "pygments_lexer": "ipython3",
   "version": "3.10.8"
  },
  "orig_nbformat": 4,
  "vscode": {
   "interpreter": {
    "hash": "8c710004f85f120fcbb17e5d410e094674df026d529af3f36d979791ae108c09"
   }
  }
 },
 "nbformat": 4,
 "nbformat_minor": 2
}
