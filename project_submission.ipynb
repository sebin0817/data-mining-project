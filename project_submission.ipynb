{
 "cells": [
  {
   "cell_type": "markdown",
   "metadata": {},
   "source": [
    "## Data Mining Project - Olist Sentiment Analysis"
   ]
  },
  {
   "cell_type": "markdown",
   "metadata": {},
   "source": [
    "### Loading Libraries and Datasets"
   ]
  },
  {
   "cell_type": "code",
   "execution_count": null,
   "metadata": {},
   "outputs": [],
   "source": [
    "# %pip install tensorflow\n",
    "# %pip install -U scikit-learn\n",
    "\n",
    "import numpy as np\n",
    "import pandas as pd\n",
    "import matplotlib.pyplot as plt\n",
    "import seaborn as sns\n",
    "import tensorflow as tf\n",
    "import sklearn"
   ]
  },
  {
   "cell_type": "code",
   "execution_count": 26,
   "metadata": {},
   "outputs": [],
   "source": [
    "data_cust = pd.read_csv(\"datasets/olist_customers_dataset.csv\")\n",
    "data_order_item = pd.read_csv(\"datasets/olist_order_items_dataset.csv\")\n",
    "data_order_paym = pd.read_csv(\"datasets/olist_order_payments_dataset.csv\")\n",
    "data_order_review = pd.read_csv(\"datasets/olist_order_reviews_dataset.csv\")\n",
    "data_order_main = pd.read_csv(\"datasets/olist_orders_dataset.csv\")\n",
    "data_product = pd.read_csv(\"datasets/olist_products_dataset.csv\")\n",
    "data_sellers = pd.read_csv(\"datasets/olist_sellers_dataset.csv\")\n",
    "data_product_cate_name = pd.read_csv(\"datasets/product_category_name_translation.csv\")"
   ]
  },
  {
   "cell_type": "code",
   "execution_count": 28,
   "metadata": {},
   "outputs": [
    {
     "name": "stdout",
     "output_type": "stream",
     "text": [
      "<class 'pandas.core.frame.DataFrame'>\n",
      "Int64Index: 115609 entries, 0 to 115608\n",
      "Data columns (total 40 columns):\n",
      " #   Column                         Non-Null Count   Dtype  \n",
      "---  ------                         --------------   -----  \n",
      " 0   customer_id                    115609 non-null  object \n",
      " 1   customer_unique_id             115609 non-null  object \n",
      " 2   customer_zip_code_prefix       115609 non-null  int64  \n",
      " 3   customer_city                  115609 non-null  object \n",
      " 4   customer_state                 115609 non-null  object \n",
      " 5   order_id                       115609 non-null  object \n",
      " 6   order_status                   115609 non-null  object \n",
      " 7   order_purchase_timestamp       115609 non-null  object \n",
      " 8   order_approved_at              115595 non-null  object \n",
      " 9   order_delivered_carrier_date   114414 non-null  object \n",
      " 10  order_delivered_customer_date  113209 non-null  object \n",
      " 11  order_estimated_delivery_date  115609 non-null  object \n",
      " 12  review_id                      115609 non-null  object \n",
      " 13  review_score                   115609 non-null  int64  \n",
      " 14  review_comment_title           13801 non-null   object \n",
      " 15  review_comment_message         48906 non-null   object \n",
      " 16  review_creation_date           115609 non-null  object \n",
      " 17  review_answer_timestamp        115609 non-null  object \n",
      " 18  payment_sequential             115609 non-null  int64  \n",
      " 19  payment_type                   115609 non-null  object \n",
      " 20  payment_installments           115609 non-null  int64  \n",
      " 21  payment_value                  115609 non-null  float64\n",
      " 22  order_item_id                  115609 non-null  int64  \n",
      " 23  product_id                     115609 non-null  object \n",
      " 24  seller_id                      115609 non-null  object \n",
      " 25  shipping_limit_date            115609 non-null  object \n",
      " 26  price                          115609 non-null  float64\n",
      " 27  freight_value                  115609 non-null  float64\n",
      " 28  product_category_name          115609 non-null  object \n",
      " 29  product_name_lenght            115609 non-null  float64\n",
      " 30  product_description_lenght     115609 non-null  float64\n",
      " 31  product_photos_qty             115609 non-null  float64\n",
      " 32  product_weight_g               115608 non-null  float64\n",
      " 33  product_length_cm              115608 non-null  float64\n",
      " 34  product_height_cm              115608 non-null  float64\n",
      " 35  product_width_cm               115608 non-null  float64\n",
      " 36  seller_zip_code_prefix         115609 non-null  int64  \n",
      " 37  seller_city                    115609 non-null  object \n",
      " 38  seller_state                   115609 non-null  object \n",
      " 39  product_category_name_english  115609 non-null  object \n",
      "dtypes: float64(10), int64(6), object(24)\n",
      "memory usage: 36.2+ MB\n"
     ]
    }
   ],
   "source": [
    "compiled_df = data_cust.merge(data_order_main, how='inner', on='customer_id')\n",
    "compiled_df = compiled_df.merge(data_order_review, how='inner', on='order_id')\n",
    "compiled_df = compiled_df.merge(data_order_paym, how='inner', on='order_id')\n",
    "compiled_df = compiled_df.merge(data_order_item, how='inner', on='order_id')\n",
    "compiled_df = compiled_df.merge(data_product, how='inner', on='product_id')\n",
    "compiled_df = compiled_df.merge(data_sellers, how='inner', on='seller_id')\n",
    "compiled_df = compiled_df.merge(data_product_cate_name, how='inner', on='product_category_name')"
   ]
  },
  {
   "cell_type": "code",
   "execution_count": null,
   "metadata": {},
   "outputs": [],
   "source": []
  }
 ],
 "metadata": {
  "kernelspec": {
   "display_name": "Python 3.10.8 64-bit (microsoft store)",
   "language": "python",
   "name": "python3"
  },
  "language_info": {
   "codemirror_mode": {
    "name": "ipython",
    "version": 3
   },
   "file_extension": ".py",
   "mimetype": "text/x-python",
   "name": "python",
   "nbconvert_exporter": "python",
   "pygments_lexer": "ipython3",
   "version": "3.10.8"
  },
  "orig_nbformat": 4,
  "vscode": {
   "interpreter": {
    "hash": "8c710004f85f120fcbb17e5d410e094674df026d529af3f36d979791ae108c09"
   }
  }
 },
 "nbformat": 4,
 "nbformat_minor": 2
}
